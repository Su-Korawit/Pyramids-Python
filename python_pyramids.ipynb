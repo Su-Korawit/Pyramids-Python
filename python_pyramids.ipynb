{
 "cells": [
  {
   "cell_type": "code",
   "execution_count": 33,
   "id": "c6c35d6b-bab4-423e-ae25-fcb221f8e0b5",
   "metadata": {},
   "outputs": [
    {
     "name": "stdin",
     "output_type": "stream",
     "text": [
      " 5\n"
     ]
    },
    {
     "name": "stdout",
     "output_type": "stream",
     "text": [
      "*\n",
      "**\n",
      "***\n",
      "****\n",
      "*****\n"
     ]
    }
   ],
   "source": [
    "#input\n",
    "5\n",
    "\n",
    "#output\n",
    "# star 1 # *\n",
    "# star 2 # **\n",
    "# star 3 # ***\n",
    "# star 4 # ****\n",
    "# star 5 # *****\n",
    "\n",
    "#Solution\n",
    "n = int(input())\n",
    "for rows in range(n) :\n",
    "    for col in range(rows+1): # First loop is 0, So we should +1 for * in first loop. #Ensure\n",
    "        print(\"*\", end=\"\")\n",
    "    print()"
   ]
  },
  {
   "cell_type": "code",
   "execution_count": 155,
   "id": "96185702-ba78-41f5-a916-0bec8de1943b",
   "metadata": {},
   "outputs": [
    {
     "name": "stdin",
     "output_type": "stream",
     "text": [
      " 5\n"
     ]
    },
    {
     "name": "stdout",
     "output_type": "stream",
     "text": [
      "* \n",
      "* * \n",
      "* * * \n",
      "* * * * \n",
      "* * * * * \n"
     ]
    }
   ],
   "source": [
    "#input\n",
    "5\n",
    "\n",
    "#output\n",
    "# star 1 # *\n",
    "# star 2 # * *\n",
    "# star 3 # * * *\n",
    "# star 4 # * * * *\n",
    "# star 5 # * * * * *\n",
    "\n",
    "#Solution\n",
    "n = int(input())\n",
    "for rows in range(n) :\n",
    "    for col in range(rows+1): # First loop is 0, So we should +1 for * in first loop. #Ensure\n",
    "        print(\"* \", end=\"\")\n",
    "    print()"
   ]
  },
  {
   "cell_type": "code",
   "execution_count": 153,
   "id": "5a61d791-4c5a-4f46-9b9d-9522252a41de",
   "metadata": {},
   "outputs": [
    {
     "name": "stdin",
     "output_type": "stream",
     "text": [
      " 5\n"
     ]
    },
    {
     "name": "stdout",
     "output_type": "stream",
     "text": [
      "    *\n",
      "   **\n",
      "  ***\n",
      " ****\n",
      "*****\n"
     ]
    }
   ],
   "source": [
    "#input\n",
    "5\n",
    "\n",
    "#output\n",
    "# space 4 star 1 #     *\n",
    "# space 3 star 2 #    **\n",
    "# space 2 star 3 #   ***\n",
    "# space 1 star 4 #  ****\n",
    "# space 0 star 5 # *****\n",
    "\n",
    "#solution\n",
    "n = int(input())\n",
    "for rows in range(n):\n",
    "    for space in range(n-rows-1): #\n",
    "        print(\" \", end=\"\")\n",
    "    for col in range(rows+1):\n",
    "        print(\"*\", end=\"\")\n",
    "    print()"
   ]
  },
  {
   "cell_type": "code",
   "execution_count": 175,
   "id": "0318c258-53fa-499d-9448-673fcf129f42",
   "metadata": {},
   "outputs": [
    {
     "name": "stdin",
     "output_type": "stream",
     "text": [
      " 5\n"
     ]
    },
    {
     "name": "stdout",
     "output_type": "stream",
     "text": [
      "*****\n",
      "****\n",
      "***\n",
      "**\n",
      "*\n"
     ]
    }
   ],
   "source": [
    "#input\n",
    "5\n",
    "\n",
    "#output\n",
    "# star 5 # *****\n",
    "# star 4 # ****\n",
    "# star 3 # ***\n",
    "# star 2 # **\n",
    "# star 1 # *\n",
    "\n",
    "#solution\n",
    "n = int(input())\n",
    "for rows in range(n):\n",
    "    for col in range(n-rows):\n",
    "        print(\"*\", end=\"\")\n",
    "    print()"
   ]
  },
  {
   "cell_type": "code",
   "execution_count": 173,
   "id": "556350b4-ee4e-423b-a79e-0fad0f940372",
   "metadata": {},
   "outputs": [
    {
     "name": "stdin",
     "output_type": "stream",
     "text": [
      " 5\n"
     ]
    },
    {
     "name": "stdout",
     "output_type": "stream",
     "text": [
      "* * * * * \n",
      "* * * * \n",
      "* * * \n",
      "* * \n",
      "* \n"
     ]
    }
   ],
   "source": [
    "#input\n",
    "5\n",
    "\n",
    "#output\n",
    "# star 5 # *****\n",
    "# star 4 # ****\n",
    "# star 3 # ***\n",
    "# star 2 # **\n",
    "# star 1 # *\n",
    "\n",
    "#solution\n",
    "n = int(input())\n",
    "for rows in range(n):\n",
    "    for col in range(n-rows):\n",
    "        print(\"* \", end=\"\")\n",
    "    print()"
   ]
  },
  {
   "cell_type": "code",
   "execution_count": 179,
   "id": "e547701b-107f-4901-884b-15712e3243e4",
   "metadata": {},
   "outputs": [
    {
     "name": "stdin",
     "output_type": "stream",
     "text": [
      " 5\n"
     ]
    },
    {
     "name": "stdout",
     "output_type": "stream",
     "text": [
      "*****\n",
      " ****\n",
      "  ***\n",
      "   **\n",
      "    *\n"
     ]
    }
   ],
   "source": [
    "#input\n",
    "5\n",
    "\n",
    "#output\n",
    "# space 0 star 5 # *****\n",
    "# space 1 star 4 #  ****\n",
    "# space 2 star 3 #   ***\n",
    "# space 3 star 2 #    **\n",
    "# space 4 star 1 #     *\n",
    "\n",
    "#solution\n",
    "n = int(input())\n",
    "for rows in range(n):\n",
    "    for space in range(rows):\n",
    "        print(\" \", end=\"\")\n",
    "    for col in range(n-rows):\n",
    "        print(\"*\", end=\"\")\n",
    "    print()"
   ]
  },
  {
   "cell_type": "code",
   "execution_count": 57,
   "id": "fdad8a70-360a-4fbf-b0fd-9419ca69f413",
   "metadata": {},
   "outputs": [
    {
     "name": "stdout",
     "output_type": "stream",
     "text": [
      "A B C D E F G H I J K L M N O P Q R S T U V W X Y Z \n",
      "a b c d e f g h i j k l m n o p q r s t u v w x y z "
     ]
    }
   ],
   "source": [
    "#ASCII\n",
    "for i in range(65, 90+1):\n",
    "    print(chr(i) + \" \", end=\"\")\n",
    "print()\n",
    "for i in range(97, 122+1):\n",
    "    print(chr(i) + \" \", end=\"\")\n",
    "\n",
    "# ref # http://sticksandstones.kstrom.com/appen.html"
   ]
  },
  {
   "cell_type": "code",
   "execution_count": 61,
   "id": "6f864bb8-c4b9-49ad-8205-565b1d429469",
   "metadata": {},
   "outputs": [
    {
     "name": "stdin",
     "output_type": "stream",
     "text": [
      " 5\n"
     ]
    },
    {
     "name": "stdout",
     "output_type": "stream",
     "text": [
      "A\n",
      "BB\n",
      "CCC\n",
      "DDDD\n",
      "EEEEE\n"
     ]
    }
   ],
   "source": [
    "#input\n",
    "5\n",
    "\n",
    "#output\n",
    "# A\n",
    "# BB\n",
    "# CCC\n",
    "# DDDD\n",
    "# EEEEE\n",
    "\n",
    "#solution\n",
    "alpha = 65\n",
    "n = int(input())\n",
    "for rows in range(n):\n",
    "    for col in range(rows+1):\n",
    "        print(chr(alpha), end=\"\")\n",
    "    alpha += 1\n",
    "    print()"
   ]
  },
  {
   "cell_type": "code",
   "execution_count": 149,
   "id": "b65d3abf-efa4-4f61-a07e-a68a018ba806",
   "metadata": {},
   "outputs": [
    {
     "name": "stdin",
     "output_type": "stream",
     "text": [
      " 5\n"
     ]
    },
    {
     "name": "stdout",
     "output_type": "stream",
     "text": [
      "A\n",
      "AB\n",
      "ABC\n",
      "ABCD\n",
      "ABCDE\n"
     ]
    }
   ],
   "source": [
    "#input\n",
    "5\n",
    "\n",
    "#output\n",
    "# A\n",
    "# AB\n",
    "# ABC\n",
    "# ABCD\n",
    "# ABCDE\n",
    "\n",
    "#solution\n",
    "alpha = 65\n",
    "n = int(input())\n",
    "# for rows in range(n):\n",
    "#     for col in range(rows+1):\n",
    "#         print(chr(alpha), end=\"\")\n",
    "#         alpha += 1\n",
    "#     print()\n",
    "#     alpha = 65\n",
    "\n",
    "# short than\n",
    "for rows in range(n):\n",
    "    for col in range(rows+1):\n",
    "        alpha = 65\n",
    "        print(chr(alpha+col), end=\"\")\n",
    "    print()"
   ]
  },
  {
   "cell_type": "code",
   "execution_count": 97,
   "id": "0aebedce-10ea-4ab5-a0f2-3db0427b4eb7",
   "metadata": {},
   "outputs": [
    {
     "name": "stdin",
     "output_type": "stream",
     "text": [
      " 5\n"
     ]
    },
    {
     "name": "stdout",
     "output_type": "stream",
     "text": [
      "2\n",
      "4\n",
      "6\n",
      "8\n",
      "10\n"
     ]
    },
    {
     "name": "stdin",
     "output_type": "stream",
     "text": [
      " 5\n"
     ]
    },
    {
     "name": "stdout",
     "output_type": "stream",
     "text": [
      "1\n",
      "3\n",
      "5\n",
      "7\n",
      "9\n"
     ]
    }
   ],
   "source": [
    "#math\n",
    "# 2n is even\n",
    "\n",
    "#input\n",
    "5\n",
    "\n",
    "#output\n",
    "2\n",
    "4\n",
    "6\n",
    "8\n",
    "10\n",
    "\n",
    "#solution\n",
    "n = int(input())\n",
    "for i in range(n):\n",
    "    print(2*(i+1))\n",
    "\n",
    "# 2n-1 is odd\n",
    "\n",
    "#input\n",
    "5\n",
    "\n",
    "#output\n",
    "1\n",
    "3\n",
    "5\n",
    "7\n",
    "9\n",
    "\n",
    "#solution\n",
    "n = int(input())\n",
    "for i in range(n):\n",
    "    print((2*(i+1))-1)"
   ]
  },
  {
   "cell_type": "code",
   "execution_count": 171,
   "id": "a9462737-bee3-43cb-bf78-10e584e299f2",
   "metadata": {},
   "outputs": [
    {
     "name": "stdin",
     "output_type": "stream",
     "text": [
      " 5\n"
     ]
    },
    {
     "name": "stdout",
     "output_type": "stream",
     "text": [
      "        * \n",
      "      * * \n",
      "    * * * \n",
      "  * * * * \n",
      "* * * * * \n"
     ]
    }
   ],
   "source": [
    "#input\n",
    "5\n",
    "\n",
    "#output\n",
    "# space 8 star 1 #         *\n",
    "# space 6 star 2 #       * *\n",
    "# space 4 star 3 #     * * *\n",
    "# space 2 star 4 #   * * * *\n",
    "# space 0 star 5 # * * * * *\n",
    "\n",
    "#solution\n",
    "n = int(input())\n",
    "for rows in range(n):\n",
    "    print(\" \" * (2*(n-rows-1)), end=\"\")\n",
    "    print(\"* \" * (rows+1), end=\"\")\n",
    "    print()"
   ]
  },
  {
   "cell_type": "code",
   "execution_count": 181,
   "id": "5162f601-ff15-41de-a1bc-845ec75361c2",
   "metadata": {},
   "outputs": [
    {
     "name": "stdin",
     "output_type": "stream",
     "text": [
      " 5\n"
     ]
    },
    {
     "name": "stdout",
     "output_type": "stream",
     "text": [
      "  * * * * * \n",
      "    * * * * \n",
      "      * * * \n",
      "        * * \n",
      "          * \n"
     ]
    }
   ],
   "source": [
    "#input\n",
    "5\n",
    "\n",
    "#output\n",
    "# space 0 star 5 # * * * * *\n",
    "# space 2 star 4 #   * * * *\n",
    "# space 4 star 3 #     * * *\n",
    "# space 6 star 2 #       * *\n",
    "# space 8 star 1 #         *\n",
    "\n",
    "#solution\n",
    "n = int(input())\n",
    "for rows in range(n):\n",
    "    for space in range(2*(rows+1)):\n",
    "        print(\" \", end=\"\")\n",
    "    for col in range(n-rows):\n",
    "        print(\"* \", end=\"\")\n",
    "    print()"
   ]
  },
  {
   "cell_type": "code",
   "execution_count": 109,
   "id": "2661b915-de9c-4c64-9dee-eb2b8806c81c",
   "metadata": {},
   "outputs": [
    {
     "name": "stdin",
     "output_type": "stream",
     "text": [
      " 5\n"
     ]
    },
    {
     "name": "stdout",
     "output_type": "stream",
     "text": [
      "    *\n",
      "   ***\n",
      "  *****\n",
      " *******\n",
      "*********\n"
     ]
    }
   ],
   "source": [
    "#input\n",
    "5\n",
    "\n",
    "#output\n",
    "# space 4 star 1 #     *\n",
    "# space 3 star 3 #    ***\n",
    "# space 2 star 5 #   *****\n",
    "# space 1 star 7 #  *******\n",
    "# space 0 star 9 # *********\n",
    "\n",
    "#solution\n",
    "n = int(input())\n",
    "for rows in range(n):\n",
    "    for space in range(n-rows-1):\n",
    "        print(\" \", end=\"\")\n",
    "    print(\"*\" * (2*(rows+1)-1), end=\"\")\n",
    "    print()"
   ]
  },
  {
   "cell_type": "code",
   "execution_count": 115,
   "id": "47547cd2-b947-4096-82b2-6d5ea84c8214",
   "metadata": {},
   "outputs": [
    {
     "name": "stdin",
     "output_type": "stream",
     "text": [
      " 5\n"
     ]
    },
    {
     "name": "stdout",
     "output_type": "stream",
     "text": [
      " *********\n",
      "  *******\n",
      "   *****\n",
      "    ***\n",
      "     *\n"
     ]
    }
   ],
   "source": [
    "#input\n",
    "5\n",
    "\n",
    "#output\n",
    "# space 0 star 9 # *********\n",
    "# space 1 star 7 #  *******\n",
    "# space 2 star 5 #   *****\n",
    "# space 3 star 3 #    ***\n",
    "# space 4 star 1 #     *\n",
    "\n",
    "#solution\n",
    "n = int(input())\n",
    "for rows in range(n):\n",
    "    for space in range(rows+1):\n",
    "        print(\" \", end=\"\")\n",
    "    print(\"*\" * (2*(n-rows)-1), end=\"\")\n",
    "    print()"
   ]
  },
  {
   "cell_type": "code",
   "execution_count": 183,
   "id": "c60c98d4-64ba-4fc0-90f3-9a57b4375286",
   "metadata": {},
   "outputs": [
    {
     "name": "stdin",
     "output_type": "stream",
     "text": [
      " 5\n"
     ]
    },
    {
     "name": "stdout",
     "output_type": "stream",
     "text": [
      "        * \n",
      "      * * * \n",
      "    * * * * * \n",
      "  * * * * * * * \n",
      "* * * * * * * * * \n"
     ]
    }
   ],
   "source": [
    "#input\n",
    "5\n",
    "\n",
    "#notice          #output\n",
    "# space 8 star 1 #         *\n",
    "# space 6 star 3 #       * * *\n",
    "# space 4 star 5 #     * * * * *\n",
    "# space 2 star 7 #   * * * * * * *\n",
    "# space 0 star 9 # * * * * * * * * *\n",
    "\n",
    "#solution\n",
    "n = int(input())\n",
    "for rows in range(n):\n",
    "    print(\" \" * (2*(n-rows-1)), end=\"\")\n",
    "    print(\"* \" * (2*(rows+1)-1), end=\"\")\n",
    "    print()"
   ]
  },
  {
   "cell_type": "code",
   "execution_count": 127,
   "id": "6fd560b5-b18a-4a69-a15d-28deab1c6d42",
   "metadata": {},
   "outputs": [
    {
     "name": "stdin",
     "output_type": "stream",
     "text": [
      " 5\n"
     ]
    },
    {
     "name": "stdout",
     "output_type": "stream",
     "text": [
      "1 \n",
      "2 3 \n",
      "4 5 6 \n",
      "7 8 9 10 \n",
      "11 12 13 14 15 \n"
     ]
    }
   ],
   "source": [
    "#input\n",
    "5\n",
    "\n",
    "#output\n",
    "# 1\n",
    "# 2 3\n",
    "# 4 5 6\n",
    "# 7 8 9 10\n",
    "# 11 12 13 14 15\n",
    "\n",
    "#solution\n",
    "n = int(input())\n",
    "i = 0\n",
    "for rows in range(n):\n",
    "    for col in range(rows+1):\n",
    "        i += 1\n",
    "        print(i, end=\" \")\n",
    "    print()"
   ]
  },
  {
   "cell_type": "code",
   "execution_count": 145,
   "id": "9b1d5ace-fff6-4f4d-911e-620620de0cee",
   "metadata": {},
   "outputs": [
    {
     "name": "stdin",
     "output_type": "stream",
     "text": [
      " 5\n"
     ]
    },
    {
     "name": "stdout",
     "output_type": "stream",
     "text": [
      "01 \n",
      "02 03 \n",
      "04 05 06 \n",
      "07 08 09 10 \n",
      "11 12 13 14 15 \n"
     ]
    }
   ],
   "source": [
    "#input\n",
    "5\n",
    "\n",
    "#output\n",
    "# 01\n",
    "# 02 03\n",
    "# 04 05 06\n",
    "# 07 08 09 10\n",
    "# 11 12 13 14 15\n",
    "\n",
    "#solution\n",
    "n = int(input())\n",
    "i = 0\n",
    "for rows in range(n):\n",
    "    for col in range(rows+1):\n",
    "        i = int(i) + 1\n",
    "        if i < 10: i = \"0\"+str(i)\n",
    "        print(i, end=\" \")\n",
    "    print()"
   ]
  }
 ],
 "metadata": {
  "kernelspec": {
   "display_name": "Python 3 (ipykernel)",
   "language": "python",
   "name": "python3"
  },
  "language_info": {
   "codemirror_mode": {
    "name": "ipython",
    "version": 3
   },
   "file_extension": ".py",
   "mimetype": "text/x-python",
   "name": "python",
   "nbconvert_exporter": "python",
   "pygments_lexer": "ipython3",
   "version": "3.11.7"
  }
 },
 "nbformat": 4,
 "nbformat_minor": 5
}
